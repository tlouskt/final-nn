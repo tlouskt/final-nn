{
 "cells": [
  {
   "cell_type": "code",
   "execution_count": 28,
   "id": "271e3c58",
   "metadata": {
    "scrolled": false
   },
   "outputs": [
    {
     "name": "stdout",
     "output_type": "stream",
     "text": [
      "The autoreload extension is already loaded. To reload it, use:\n",
      "  %reload_ext autoreload\n"
     ]
    }
   ],
   "source": [
    "%load_ext autoreload\n",
    "%autoreload 2"
   ]
  },
  {
   "cell_type": "code",
   "execution_count": 29,
   "id": "3f7c271b",
   "metadata": {},
   "outputs": [],
   "source": [
    "%reload_ext autoreload"
   ]
  },
  {
   "cell_type": "markdown",
   "id": "5d4a9dc1",
   "metadata": {},
   "source": [
    "Import libraries"
   ]
  },
  {
   "cell_type": "code",
   "execution_count": 30,
   "id": "a32b16bb",
   "metadata": {},
   "outputs": [],
   "source": [
    "from nn import nn, preprocess, io\n",
    "import numpy as np\n",
    "import matplotlib.pyplot as plt\n",
    "from sklearn.datasets import load_digits\n",
    "from sklearn.model_selection import train_test_split, ParameterGrid\n",
    "from sklearn.metrics import mean_squared_error"
   ]
  },
  {
   "cell_type": "markdown",
   "id": "a43f9e61",
   "metadata": {},
   "source": [
    "Load digits dataset"
   ]
  },
  {
   "cell_type": "code",
   "execution_count": 31,
   "id": "78a02ba7",
   "metadata": {},
   "outputs": [],
   "source": [
    "#Load digits dataset\n",
    "digits = load_digits()"
   ]
  },
  {
   "cell_type": "markdown",
   "id": "f09dbd94",
   "metadata": {},
   "source": [
    "Split data into training and test sets using an 80/20 split where 20% is for validation and 80% is for training"
   ]
  },
  {
   "cell_type": "code",
   "execution_count": 32,
   "id": "d07b6040",
   "metadata": {},
   "outputs": [
    {
     "data": {
      "text/plain": [
       "((1437, 64), (360, 64))"
      ]
     },
     "execution_count": 32,
     "metadata": {},
     "output_type": "execute_result"
    }
   ],
   "source": [
    "#Split into test and validation sets\n",
    "X_train, X_test, y_train, y_test = train_test_split(digits.data, digits.target, test_size=0.2, random_state = 0)\n",
    "#Print shape\n",
    "X_train.shape, X_test.shape"
   ]
  },
  {
   "cell_type": "markdown",
   "id": "a5876557",
   "metadata": {},
   "source": [
    "Construct autoencoder. Use mean squared error loss and relu because output is not binary (conts). Hyperparameters were chosen based on hyperparameter search using sklearn's ParameterGrid"
   ]
  },
  {
   "cell_type": "code",
   "execution_count": 33,
   "id": "e94863e2",
   "metadata": {},
   "outputs": [],
   "source": [
    "#Instantiate neural network\n",
    "nn_arch = [{'input_dim': 64, 'output_dim': 16, 'activation': 'relu'},\n",
    "           {'input_dim': 16, 'output_dim': 64, 'activation': 'relu'}]\n",
    "\n",
    "#hyperparameters\n",
    "lr = .00001\n",
    "seed = 42\n",
    "batch_size = 10\n",
    "epochs = 10\n",
    "loss_function = \"mse\"\n",
    "\n",
    "model = nn.NeuralNetwork(nn_arch, lr = 0.0001, seed = 42, batch_size = 50, epochs = 500, loss_function = \"mse\")"
   ]
  },
  {
   "cell_type": "markdown",
   "id": "3b944f34",
   "metadata": {},
   "source": [
    "Train autoencoder"
   ]
  },
  {
   "cell_type": "code",
   "execution_count": 34,
   "id": "f534eb3f",
   "metadata": {},
   "outputs": [],
   "source": [
    "#Train autoencoder on the training data\n",
    "train_loss, test_loss = model.fit(X_train, X_train, X_test, X_test)"
   ]
  },
  {
   "cell_type": "markdown",
   "id": "54e6fb5c",
   "metadata": {},
   "source": [
    "Plot training loss and validation loss"
   ]
  },
  {
   "cell_type": "code",
   "execution_count": 35,
   "id": "10788b2b",
   "metadata": {},
   "outputs": [
    {
     "name": "stdout",
     "output_type": "stream",
     "text": [
      "average Training Error: 6.064917599905919\n",
      "average Validation Error: 6.416368347717475\n"
     ]
    },
    {
     "data": {
      "image/png": "[encoded data removed]",
      "text/plain": [
       "<Figure size 432x288 with 1 Axes>"
      ]
     },
     "metadata": {
      "needs_background": "light"
     },
     "output_type": "display_data"
    }
   ],
   "source": [
    "#Plot losses\n",
    "plt.plot(train_loss, label=\"train\")\n",
    "plt.plot(test_loss, label=\"val\")\n",
    "plt.title(\"Training and Validation Losses Per Epoch\")\n",
    "plt.xlabel(\"Epoch\")\n",
    "plt.ylabel(\"Loss\")\n",
    "plt.legend()\n",
    "print(f'average Training Error: {np.mean(train_loss)}')\n",
    "print(f'average Validation Error: {np.mean(test_loss)}')"
   ]
  },
  {
   "cell_type": "markdown",
   "id": "6c09d915",
   "metadata": {},
   "source": [
    "Quantify reconstruction error"
   ]
  },
  {
   "cell_type": "code",
   "execution_count": 36,
   "id": "f6f5f1cd",
   "metadata": {
    "scrolled": true
   },
   "outputs": [
    {
     "name": "stdout",
     "output_type": "stream",
     "text": [
      "Average prediction error: 5.884491004812239\n"
     ]
    },
    {
     "data": {
      "image/png": "[encoded data removed]",
      "text/plain": [
       "<Figure size 720x720 with 2 Axes>"
      ]
     },
     "metadata": {
      "needs_background": "light"
     },
     "output_type": "display_data"
    }
   ],
   "source": [
    "pred = model.predict(X_test)\n",
    "pred_err = mean_squared_error(X_test, pred)\n",
    "print(\"Average prediction error: \" + str(pred_err))\n",
    "\n",
    "fig, ax = plt.subplots(1, 2, figsize = (10, 10))\n",
    "ax[0].matshow(X_test[10].reshape((8, 8)))\n",
    "ax[0].set_title(\"True\")\n",
    "ax[1].matshow(pred[10].reshape((8, 8)))\n",
    "ax[1].set_title(\"Predicted\")\n",
    "plt.show() "
   ]
  },
  {
   "cell_type": "markdown",
   "id": "5b24734e",
   "metadata": {},
   "source": [
    "Hyperparameter search using sklearn's ParameterGrid. Optimmized learning rate, batch size, and epochs"
   ]
  },
  {
   "cell_type": "code",
   "execution_count": 16,
   "id": "4ada6d76",
   "metadata": {},
   "outputs": [],
   "source": [
    "#hyperparameter turning\n",
    "digits = load_digits()\n",
    "X_train, X_test, y_train, y_test = train_test_split(digits.data, digits.target, test_size=0.2, random_state = 0)\n",
    "\n",
    "param_grid = {\n",
    "    'learning_rate': [0.1, 0.01, 0.001, .0001, .00001],\n",
    "    'batch_size': [10, 50, 100, 500],\n",
    "    'epochs': [10, 50, 100, 500]\n",
    "}"
   ]
  },
  {
   "cell_type": "code",
   "execution_count": 17,
   "id": "11d58cf1",
   "metadata": {},
   "outputs": [],
   "source": [
    "#init paramgrid\n",
    "grid = ParameterGrid(param_grid)"
   ]
  },
  {
   "cell_type": "code",
   "execution_count": 26,
   "id": "25aa8f31",
   "metadata": {},
   "outputs": [],
   "source": [
    "results = {}\n",
    "\n",
    "nn_arch = [{'input_dim': 64, 'output_dim': 16, 'activation': 'relu'},\n",
    "           {'input_dim': 16, 'output_dim': 64, 'activation': 'relu'}]\n",
    "loss_function = \"mse\"\n",
    "seed = 42\n",
    "\n",
    "for params in grid:\n",
    "    model = nn.NeuralNetwork(nn_arch, \n",
    "                             params['learning_rate'], \n",
    "                             seed, \n",
    "                             params['batch_size'], \n",
    "                             params['epochs'], \n",
    "                             loss_function = 'mse')\n",
    "    \n",
    "    train_loss, val_loss = model.fit(X_train, X_train, X_test, X_test)\n",
    "    pred = model.predict(X_test)\n",
    "    pred_error = mean_squared_error(X_test, pred)\n",
    "    \n",
    "    results[str(params)] = pred_error\n",
    "    \n",
    "best_params = eval(min(results, key=results.get))"
   ]
  },
  {
   "cell_type": "code",
   "execution_count": 27,
   "id": "7b0f8c34",
   "metadata": {},
   "outputs": [
    {
     "data": {
      "text/plain": [
       "{'batch_size': 50, 'epochs': 500, 'learning_rate': 0.0001}"
      ]
     },
     "execution_count": 27,
     "metadata": {},
     "output_type": "execute_result"
    }
   ],
   "source": [
    "best_params"
   ]
  },
  {
   "cell_type": "code",
   "execution_count": null,
   "id": "203f8edf",
   "metadata": {},
   "outputs": [],
   "source": []
  }
 ],
 "metadata": {
  "kernelspec": {
   "display_name": "Python 3 (ipykernel)",
   "language": "python",
   "name": "python3"
  },
  "language_info": {
   "codemirror_mode": {
    "name": "ipython",
    "version": 3
   },
   "file_extension": ".py",
   "mimetype": "text/x-python",
   "name": "python",
   "nbconvert_exporter": "python",
   "pygments_lexer": "ipython3",
   "version": "3.9.12"
  }
 },
 "nbformat": 4,
 "nbformat_minor": 5
}
