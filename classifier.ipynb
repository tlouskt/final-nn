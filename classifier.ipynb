{
 "cells": [
  {
   "cell_type": "code",
   "execution_count": 59,
   "id": "12da9065",
   "metadata": {},
   "outputs": [
    {
     "name": "stdout",
     "output_type": "stream",
     "text": [
      "The autoreload extension is already loaded. To reload it, use:\n",
      "  %reload_ext autoreload\n"
     ]
    }
   ],
   "source": [
    "%load_ext autoreload\n",
    "%autoreload 2"
   ]
  },
  {
   "cell_type": "code",
   "execution_count": 60,
   "id": "5fd05be9",
   "metadata": {},
   "outputs": [],
   "source": [
    "%reload_ext autoreload"
   ]
  },
  {
   "cell_type": "markdown",
   "id": "97f6b8fe",
   "metadata": {},
   "source": [
    "Import libraries and modules"
   ]
  },
  {
   "cell_type": "code",
   "execution_count": 61,
   "id": "0635b147",
   "metadata": {},
   "outputs": [],
   "source": [
    "from nn import nn, preprocess, io\n",
    "import numpy as np\n",
    "import matplotlib.pyplot as plt\n",
    "from sklearn.model_selection import train_test_split, ParameterGrid\n",
    "from sklearn.metrics import mean_squared_error"
   ]
  },
  {
   "cell_type": "code",
   "execution_count": 62,
   "id": "dd653a09",
   "metadata": {},
   "outputs": [
    {
     "name": "stdout",
     "output_type": "stream",
     "text": [
      "137\n",
      "3163\n"
     ]
    }
   ],
   "source": [
    "#Load data\n",
    "pos = io.read_text_file(\"./data/rap1-lieb-positives.txt\")\n",
    "neg = io.read_fasta_file(\"./data/yeast-upstream-1k-negative.fa\")\n",
    "print(len(pos))\n",
    "print(len(neg))"
   ]
  },
  {
   "cell_type": "code",
   "execution_count": 63,
   "id": "2246293b",
   "metadata": {},
   "outputs": [
    {
     "data": {
      "text/plain": [
       "(17, 1000)"
      ]
     },
     "execution_count": 63,
     "metadata": {},
     "output_type": "execute_result"
    }
   ],
   "source": [
    "len(pos[50]),len(neg[50])"
   ]
  },
  {
   "cell_type": "markdown",
   "id": "52710e8b",
   "metadata": {},
   "source": [
    "Length of positive sequences are 17bp and length of negative are 1000bp. Shorten the negative sequences to length of positive sequences and oversample positive sequences to balance classes. There are way fewer positive sequences than negative sequences"
   ]
  },
  {
   "cell_type": "code",
   "execution_count": 64,
   "id": "50e6c9ff",
   "metadata": {},
   "outputs": [],
   "source": [
    "#Process negative sequences. Break up 1000bp sequence into 17bp chunks that are nonoverlapping\n",
    "\n",
    "short_neg = []\n",
    "target_length = len(pos[50])\n",
    "\n",
    "for seq in neg:\n",
    "    for i in range (0, len(seq), target_length):\n",
    "        sub_neg_seq = seq[i:i+target_length]\n",
    "        short_neg.append(sub_neg_seq)"
   ]
  },
  {
   "cell_type": "code",
   "execution_count": 65,
   "id": "49f6b1f6",
   "metadata": {},
   "outputs": [
    {
     "data": {
      "text/plain": [
       "186459"
      ]
     },
     "execution_count": 65,
     "metadata": {},
     "output_type": "execute_result"
    }
   ],
   "source": [
    "len(short_neg)"
   ]
  },
  {
   "cell_type": "code",
   "execution_count": 66,
   "id": "4a3035f8",
   "metadata": {},
   "outputs": [
    {
     "data": {
      "text/plain": [
       "['CTTCATGTCAGCCTGCA',\n",
       " 'CTTCTGGGTCGTTGAAG',\n",
       " 'TTTCTACCGATCAAACG',\n",
       " 'CTTAGCGTCGAAAACGG',\n",
       " 'TATTCGAAGGATTCATA',\n",
       " 'GCAGCTTGATTCTTAGC',\n",
       " 'AGCATCACCAATCAATC',\n",
       " 'TTTCAGTGTCAGTGAAA',\n",
       " 'GCGACAAAAGATGGAGT',\n",
       " 'GGTTCTGTTACCTTGAT']"
      ]
     },
     "execution_count": 66,
     "metadata": {},
     "output_type": "execute_result"
    }
   ],
   "source": [
    "short_neg[:10]"
   ]
  },
  {
   "cell_type": "markdown",
   "id": "9252eef7",
   "metadata": {},
   "source": [
    "Combine sequences and label"
   ]
  },
  {
   "cell_type": "code",
   "execution_count": 67,
   "id": "99973fe6",
   "metadata": {
    "scrolled": false
   },
   "outputs": [
    {
     "name": "stdout",
     "output_type": "stream",
     "text": [
      "186596\n",
      "['ACATCCGTGCACCTCCG', 'ACACCCAGACATCGGGC', 'CCACCCGTACCCATGAC', 'GCACCCATACATTACAT', 'ACATCCATACACCCTCT', 'ACACCCTTACACTTTTA', 'GCATCCGTGCCTCCCAC', 'AAACCCATGCACAGTGA', 'ACATCCGTGCACCATTT', 'ACACCCATACATACGGA']\n",
      "186596\n",
      "[True, True, True, True, True, True, True, True, True, True]\n"
     ]
    }
   ],
   "source": [
    "all_seq = pos + short_neg\n",
    "labels = [True] * len(pos) + [False] * len(short_neg)\n",
    "print(len(all_seq))\n",
    "print(all_seq[:10])\n",
    "print(len(labels))\n",
    "print(labels[:10])"
   ]
  },
  {
   "cell_type": "markdown",
   "id": "b1879faa",
   "metadata": {},
   "source": [
    "Class balancing using preprocess.sample_seqs function"
   ]
  },
  {
   "cell_type": "code",
   "execution_count": 68,
   "id": "d7896d19",
   "metadata": {
    "scrolled": true
   },
   "outputs": [],
   "source": [
    "sampled_seqs, sampled_labels = preprocess.sample_seqs(all_seq, labels)"
   ]
  },
  {
   "cell_type": "code",
   "execution_count": 69,
   "id": "c8d9da20",
   "metadata": {},
   "outputs": [
    {
     "name": "stdout",
     "output_type": "stream",
     "text": [
      "['ACATCCGTGCACCTCCG', 'ACACCCAGACATCGGGC', 'CCACCCGTACCCATGAC', 'GCACCCATACATTACAT', 'ACATCCATACACCCTCT']\n",
      "186596\n",
      "[True, True, True, True, True]\n",
      "186596\n"
     ]
    }
   ],
   "source": [
    "print(sampled_seqs[:5])\n",
    "print(len(sampled_seqs))\n",
    "print(sampled_labels[:5])\n",
    "print(len(sampled_labels))"
   ]
  },
  {
   "cell_type": "markdown",
   "id": "bd74e302",
   "metadata": {},
   "source": [
    "One-hot encode sequences"
   ]
  },
  {
   "cell_type": "code",
   "execution_count": 70,
   "id": "96b5efdc",
   "metadata": {},
   "outputs": [
    {
     "name": "stdout",
     "output_type": "stream",
     "text": [
      "(186596,)\n",
      "(186596,)\n"
     ]
    },
    {
     "name": "stderr",
     "output_type": "stream",
     "text": [
      "/Users/tlou/Documents/2023/bmi203/final-nn/nn/preprocess.py:90: VisibleDeprecationWarning: Creating an ndarray from ragged nested sequences (which is a list-or-tuple of lists-or-tuples-or ndarrays with different lengths or shapes) is deprecated. If you meant to do this, you must specify 'dtype=object' when creating the ndarray.\n",
      "  one_hot_encodings.append(np.array(base_one_hot).flatten())\n"
     ]
    }
   ],
   "source": [
    "X = preprocess.one_hot_encode_seqs(sampled_seqs)\n",
    "y = np.array(sampled_labels, dtype=object)\n",
    "print(X.shape)\n",
    "print(y.shape)"
   ]
  },
  {
   "cell_type": "markdown",
   "id": "08531cf0",
   "metadata": {},
   "source": [
    "Split into train and test sets"
   ]
  },
  {
   "cell_type": "code",
   "execution_count": 71,
   "id": "68ffb122",
   "metadata": {},
   "outputs": [],
   "source": [
    "X_train, X_test, y_train, y_test = train_test_split(X, y, test_size = 0.2, random_state = 42)"
   ]
  },
  {
   "cell_type": "code",
   "execution_count": 72,
   "id": "15f4fc0b",
   "metadata": {},
   "outputs": [
    {
     "name": "stdout",
     "output_type": "stream",
     "text": [
      "(149276,)\n",
      "(37320,)\n",
      "(149276,)\n",
      "(37320,)\n"
     ]
    }
   ],
   "source": [
    "print(X_train.shape)\n",
    "print(X_test.shape)\n",
    "print(y_train.shape)\n",
    "print(y_test.shape)"
   ]
  },
  {
   "cell_type": "markdown",
   "id": "ec8d61eb",
   "metadata": {},
   "source": [
    "Instantiate nn model and define parameters"
   ]
  },
  {
   "cell_type": "code",
   "execution_count": null,
   "id": "18379883",
   "metadata": {},
   "outputs": [],
   "source": []
  }
 ],
 "metadata": {
  "kernelspec": {
   "display_name": "Python 3 (ipykernel)",
   "language": "python",
   "name": "python3"
  },
  "language_info": {
   "codemirror_mode": {
    "name": "ipython",
    "version": 3
   },
   "file_extension": ".py",
   "mimetype": "text/x-python",
   "name": "python",
   "nbconvert_exporter": "python",
   "pygments_lexer": "ipython3",
   "version": "3.9.12"
  }
 },
 "nbformat": 4,
 "nbformat_minor": 5
}
